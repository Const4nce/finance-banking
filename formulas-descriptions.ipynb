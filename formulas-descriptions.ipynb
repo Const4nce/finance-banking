{
 "cells": [
  {
   "cell_type": "markdown",
   "metadata": {},
   "source": [
    "# FORMULAS DESCRIPTIONS\n",
    "\n",
    "\n",
    "## [some description here]\n",
    "\n",
    "---------------------------"
   ]
  },
  {
   "cell_type": "markdown",
   "metadata": {},
   "source": [
    "### Present Value\n",
    "\n",
    "Financial formula calculating the present day value of an amount received at a future date.\n",
    "It is based on the concept that receiving an amount today is worth more than receiving the same amount at a future date. This formula has a broad range of uses to various disciplines, including corporate, banking and investment finance.\n",
    "\n",
    "\n",
    "$ {PV} = \\frac{C_1}{(1+r)^n} $  \n",
    "\n",
    "$ {C_1} $  <i>= Cash Flow at period 1</i><br/>\n",
    "$ {r} $ <i>= rate of return</i><br/>\n",
    "$ {n} $ <i>= number of periods</i><br/>\n",
    "\n",
    "---------------------------"
   ]
  },
  {
   "cell_type": "markdown",
   "metadata": {},
   "source": [
    "### Future Value\n",
    "\n",
    "Financial formula calculating the value of cashflow at a later time. Similar to present value it is based on the concept that receiving an amount today is worth more than receiving the same amount at a future date.\n",
    "\n",
    "With this formula, it is of utmost importance to match the rate per period with the number of periods, where number of periods should match how often an investment is compounded. For example, assuming nominal interest rate at 12% per year, which iscompounded <u>monthly</u>, because of the monthly compound, the rate should also be at the monthly level (1% per month). This monthly level should be the number used in the formula to calculate the future value factor.\n",
    "\n",
    "$ {FV} = {C_0}*(1+r)^n $\n",
    "\n",
    "$ {C_0} $  <i>= Cash Flow at period 0</i><br/>\n",
    "$ {r} $ <i>= rate of return</i><br/>\n",
    "$ {n} $ <i>= number of periods</i><br/>\n",
    " \n",
    "---------------------------"
   ]
  },
  {
   "cell_type": "markdown",
   "metadata": {},
   "source": [
    "### Future Value Factor\n",
    "\n",
    "The formula for the future value factor is used to calculate the future value of an amount per amount unit of its present value. "
   ]
  },
  {
   "cell_type": "code",
   "execution_count": null,
   "metadata": {},
   "outputs": [],
   "source": []
  }
 ],
 "metadata": {
  "kernelspec": {
   "display_name": "Python 3 (ipykernel)",
   "language": "python",
   "name": "python3"
  },
  "language_info": {
   "codemirror_mode": {
    "name": "ipython",
    "version": 3
   },
   "file_extension": ".py",
   "mimetype": "text/x-python",
   "name": "python",
   "nbconvert_exporter": "python",
   "pygments_lexer": "ipython3",
   "version": "3.9.7"
  }
 },
 "nbformat": 4,
 "nbformat_minor": 4
}
